{
 "cells": [
  {
   "cell_type": "code",
   "execution_count": 1,
   "metadata": {},
   "outputs": [
    {
     "name": "stdout",
     "output_type": "stream",
     "text": [
      "8\n"
     ]
    },
    {
     "data": {
      "text/plain": [
       "21"
      ]
     },
     "execution_count": 1,
     "metadata": {},
     "output_type": "execute_result"
    }
   ],
   "source": [
    "f0 = 0\n",
    "f1 = 1\n",
    " \n",
    "n = int(input())\n",
    "\n",
    "if n == 1:\n",
    "    f1 = 1\n",
    "    \n",
    "if n  < 1:\n",
    "    f1 = 0\n",
    "    \n",
    "for i in range(1, n):\n",
    "    f0,f1 = f1, f0 + f1\n",
    "f1"
   ]
  },
  {
   "cell_type": "code",
   "execution_count": 2,
   "metadata": {},
   "outputs": [
    {
     "name": "stdout",
     "output_type": "stream",
     "text": [
      "Ввведите вектор\n",
      "4 6 7 \n",
      "[4 0 6 0 7]\n"
     ]
    }
   ],
   "source": [
    "import numpy as np\n",
    "print('Ввведите вектор')\n",
    "x = list(map(int, input().split()))\n",
    "def add_zeros(x):\n",
    "    return np.insert(x, range(1, len(x)), 0)\n",
    " \n",
    "print(add_zeros(x))"
   ]
  }
 ],
 "metadata": {
  "kernelspec": {
   "display_name": "Python 3",
   "language": "python",
   "name": "python3"
  },
  "language_info": {
   "codemirror_mode": {
    "name": "ipython",
    "version": 3
   },
   "file_extension": ".py",
   "mimetype": "text/x-python",
   "name": "python",
   "nbconvert_exporter": "python",
   "pygments_lexer": "ipython3",
   "version": "3.7.6"
  }
 },
 "nbformat": 4,
 "nbformat_minor": 4
}
