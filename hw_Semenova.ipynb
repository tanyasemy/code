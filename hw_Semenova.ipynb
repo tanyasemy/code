{
 "cells": [
  {
   "cell_type": "code",
   "execution_count": 133,
   "metadata": {},
   "outputs": [],
   "source": [
    "import numpy as np\n",
    "import pandas as pd\n",
    "import seaborn as sns\n",
    "import matplotlib.pyplot as plt\n",
    "import scipy.stats as stats\n",
    "from statsmodels.stats.proportion import proportions_ztest\n"
   ]
  },
  {
   "cell_type": "markdown",
   "metadata": {},
   "source": [
    "Рассмотрим две группы людей с первой и второй группой крови, количество людей в этих группах записано в массив nobs. В группах был сделан тест на коронавирус, количество положительных тестов - в массиве count.\n",
    "Посчитаем отношение количества зараженных к общему количеству в каждой группе (это р1, р2) и сформулируем гипотезы:\n",
    "Н0 - р1 и р2 не имют значимых различий;\n",
    "Н1 - р1 и р2 имеют значимые различия.\n",
    "Уровень значимости возьмем 0.05"
   ]
  },
  {
   "cell_type": "code",
   "execution_count": 134,
   "metadata": {},
   "outputs": [],
   "source": [
    "count = np.array([15, 38])\n",
    "nobs = np.array([107, 100])"
   ]
  },
  {
   "cell_type": "markdown",
   "metadata": {},
   "source": [
    "Двусторонняя альтернативная гипотеза:"
   ]
  },
  {
   "cell_type": "code",
   "execution_count": 135,
   "metadata": {},
   "outputs": [
    {
     "name": "stdout",
     "output_type": "stream",
     "text": [
      "Есть статистически значимая разница \n",
      "z-value =  -3.950496130170083 \n",
      "p-value = 0.0000780\n"
     ]
    },
    {
     "data": {
      "text/plain": [
       "(0.14018691588785046, 0.38)"
      ]
     },
     "execution_count": 135,
     "metadata": {},
     "output_type": "execute_result"
    }
   ],
   "source": [
    "p1,p2=count/nobs\n",
    "p = np.sum(count)/np.sum(nobs)\n",
    "z = (p1-p2)/np.sqrt(p*(1-p)*(1/nobs[0]+1/nobs[1]))\n",
    "pval = stats.norm.cdf(z)*2\n",
    "if pval > 0.05:\n",
    "    print('Нет статистически значимой разницы','\\nz-value = ',z,'\\np-value =','{0:0.7f}'.format(pval))\n",
    "else:\n",
    "    print('Есть статистически значимая разница','\\nz-value = ',z,'\\np-value =','{0:0.7f}'.format(pval))\n",
    "    \n",
    "p1,p2"
   ]
  },
  {
   "cell_type": "code",
   "execution_count": 136,
   "metadata": {},
   "outputs": [
    {
     "name": "stdout",
     "output_type": "stream",
     "text": [
      "-3.9504961\n",
      "0.0000780\n"
     ]
    }
   ],
   "source": [
    "#проверка\n",
    "stat2, pval2 = proportions_ztest(count, nobs,alternative='two-sided')\n",
    "print('{0:0.7f}'.format(stat2))\n",
    "print('{0:0.7f}'.format(pval2))"
   ]
  },
  {
   "cell_type": "markdown",
   "metadata": {},
   "source": [
    "Правосторонняя альтернативная гипотеза: H1 - процент зараженных в 1 группе больше, чем в 2 группе"
   ]
  },
  {
   "cell_type": "code",
   "execution_count": 137,
   "metadata": {},
   "outputs": [
    {
     "name": "stdout",
     "output_type": "stream",
     "text": [
      "Нет статистически значимой разницы \n",
      "z-value =  -3.950496130170083 \n",
      "p-value = 0.9999610\n"
     ]
    }
   ],
   "source": [
    "p1,p2=count/nobs\n",
    "p = np.sum(count)/np.sum(nobs)\n",
    "z = (p1-p2)/np.sqrt(p*(1-p)*(1/nobs[0]+1/nobs[1]))\n",
    "pval = 1-stats.norm.cdf(z)\n",
    "if pval > 0.05:\n",
    "    print('Нет статистически значимой разницы','\\nz-value = ',z,'\\np-value =','{0:0.7f}'.format(pval))\n",
    "else:\n",
    "    print('Есть статистически значимая разница','\\nz-value = ',z,'\\np-value =','{0:0.7f}'.format(pval))"
   ]
  },
  {
   "cell_type": "code",
   "execution_count": 138,
   "metadata": {},
   "outputs": [
    {
     "name": "stdout",
     "output_type": "stream",
     "text": [
      "-3.9504961\n",
      "0.9999610\n"
     ]
    }
   ],
   "source": [
    "#проверка\n",
    "stat2, pval2 = proportions_ztest(count, nobs,alternative='larger')\n",
    "print('{0:0.7f}'.format(stat2))\n",
    "print('{0:0.7f}'.format(pval2))"
   ]
  },
  {
   "cell_type": "markdown",
   "metadata": {},
   "source": [
    "Левосторонняя альтернативная гипотеза: H1 - процент зараженных в 1 группе меньше, чем в 2 группе"
   ]
  },
  {
   "cell_type": "code",
   "execution_count": 139,
   "metadata": {},
   "outputs": [
    {
     "name": "stdout",
     "output_type": "stream",
     "text": [
      "Есть статистически значимая разница \n",
      "z-value =  -3.950496130170083 \n",
      "p-value = 0.0000390\n"
     ]
    }
   ],
   "source": [
    "p1,p2=count/nobs\n",
    "p = np.sum(count)/np.sum(nobs)\n",
    "z = (p1-p2)/np.sqrt(p*(1-p)*(1/nobs[0]+1/nobs[1]))\n",
    "pval = stats.norm.cdf(z)\n",
    "if pval > 0.05:\n",
    "    print('Нет статистически значимой разницы','\\nz-value = ',z,'\\np-value =','{0:0.7f}'.format(pval))\n",
    "else:\n",
    "    print('Есть статистически значимая разница','\\nz-value = ',z,'\\np-value =','{0:0.7f}'.format(pval))"
   ]
  },
  {
   "cell_type": "code",
   "execution_count": 140,
   "metadata": {},
   "outputs": [
    {
     "name": "stdout",
     "output_type": "stream",
     "text": [
      "-3.9504961\n",
      "0.0000390\n"
     ]
    }
   ],
   "source": [
    "#проверка\n",
    "stat2, pval2 = proportions_ztest(count, nobs,alternative='smaller')\n",
    "print('{0:0.7f}'.format(stat2))\n",
    "print('{0:0.7f}'.format(pval2))"
   ]
  },
  {
   "cell_type": "code",
   "execution_count": null,
   "metadata": {},
   "outputs": [],
   "source": []
  }
 ],
 "metadata": {
  "kernelspec": {
   "display_name": "Python 3",
   "language": "python",
   "name": "python3"
  },
  "language_info": {
   "codemirror_mode": {
    "name": "ipython",
    "version": 3
   },
   "file_extension": ".py",
   "mimetype": "text/x-python",
   "name": "python",
   "nbconvert_exporter": "python",
   "pygments_lexer": "ipython3",
   "version": "3.7.6"
  }
 },
 "nbformat": 4,
 "nbformat_minor": 4
}
